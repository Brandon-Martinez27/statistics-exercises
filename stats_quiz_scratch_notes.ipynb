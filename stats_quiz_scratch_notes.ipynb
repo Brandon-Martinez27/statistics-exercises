{
 "cells": [
  {
   "cell_type": "code",
   "execution_count": 6,
   "metadata": {},
   "outputs": [
    {
     "data": {
      "text/plain": [
       "0.15107528710211096"
      ]
     },
     "execution_count": 6,
     "metadata": {},
     "output_type": "execute_result"
    }
   ],
   "source": [
    "#1\n",
    "p = .1\n",
    "observe = 70 # people\n",
    "cust = 618 # people\n",
    "\n",
    "stats.binom(618, .1).sf(69)\n",
    "#.151"
   ]
  },
  {
   "cell_type": "code",
   "execution_count": 8,
   "metadata": {},
   "outputs": [],
   "source": [
    "#2\n",
    "#Probability Mass Function"
   ]
  },
  {
   "cell_type": "code",
   "execution_count": null,
   "metadata": {},
   "outputs": [],
   "source": [
    "#3\n",
    "#Inverse Survival Function"
   ]
  },
  {
   "cell_type": "markdown",
   "metadata": {},
   "source": [
    "#4\n",
    "Uniform:\n",
    "Poisson\n",
    "Binomial:\n",
    "Normal:"
   ]
  },
  {
   "cell_type": "code",
   "execution_count": null,
   "metadata": {},
   "outputs": [],
   "source": [
    "#5\n",
    "#uniform"
   ]
  },
  {
   "cell_type": "code",
   "execution_count": null,
   "metadata": {},
   "outputs": [],
   "source": [
    "#6\n",
    "#Poisson"
   ]
  },
  {
   "cell_type": "code",
   "execution_count": null,
   "metadata": {},
   "outputs": [],
   "source": [
    "#7\n",
    "#Binomial"
   ]
  },
  {
   "cell_type": "code",
   "execution_count": null,
   "metadata": {},
   "outputs": [],
   "source": [
    "#8a.\n",
    "#2 Sample, 1-tailed T-Test"
   ]
  },
  {
   "cell_type": "markdown",
   "metadata": {},
   "source": [
    "#8b.\n",
    "#There is no difference in the mean age of web dev and data science students"
   ]
  },
  {
   "cell_type": "code",
   "execution_count": null,
   "metadata": {},
   "outputs": [],
   "source": [
    "#8c.\n",
    "#Web dev students are significantly younger then data science students"
   ]
  },
  {
   "cell_type": "markdown",
   "metadata": {},
   "source": [
    "8d.\n",
    "1. A normal distribution, or there are at least 30 observations and normal-ish. Regarding the Central Limit Theorem. \n",
    "2. Samples are independent of each other \n",
    "3. The Variances are equal, if not, you must account for this by setting an argument to False when calculating for test statistic "
   ]
  },
  {
   "cell_type": "markdown",
   "metadata": {},
   "source": [
    "#8e\n",
    "We use the p-value/2 since we are looking at a specific difference (wd age < ds age)"
   ]
  },
  {
   "cell_type": "markdown",
   "metadata": {},
   "source": [
    "#8f\n",
    "We reject our null hypothesis if our p-value/2 is less than alpha (.05 in this case)."
   ]
  },
  {
   "cell_type": "markdown",
   "metadata": {},
   "source": [
    "#8g\n",
    "We fail to reject our null hypothesis if our p-value/2 is greater than alpha (.05 in this case)."
   ]
  },
  {
   "cell_type": "markdown",
   "metadata": {},
   "source": [
    "9a.\n",
    "Chi Square Test"
   ]
  },
  {
   "cell_type": "markdown",
   "metadata": {},
   "source": [
    "9b.\n",
    "Codeup program is independent of degree level"
   ]
  },
  {
   "cell_type": "markdown",
   "metadata": {},
   "source": [
    "9c.\n",
    "Codeup Program is dependent on degree level"
   ]
  },
  {
   "cell_type": "markdown",
   "metadata": {},
   "source": [
    "9d.\n",
    "True Negative"
   ]
  },
  {
   "cell_type": "markdown",
   "metadata": {},
   "source": [
    "9e.\n",
    "False Negative or type 2 error"
   ]
  },
  {
   "cell_type": "markdown",
   "metadata": {},
   "source": [
    "10."
   ]
  },
  {
   "cell_type": "code",
   "execution_count": 11,
   "metadata": {},
   "outputs": [
    {
     "data": {
      "text/plain": [
       "0.7475074624530771"
      ]
     },
     "execution_count": 11,
     "metadata": {},
     "output_type": "execute_result"
    }
   ],
   "source": [
    "mean = 40\n",
    "sd = 15\n",
    "walk = 5\n",
    "lunch = 60\n",
    "\n",
    "time_for_lunch = lunch - (walk*2)\n",
    "\n",
    "stats.norm(mean,sd).cdf(time_for_lunch)"
   ]
  },
  {
   "cell_type": "code",
   "execution_count": null,
   "metadata": {},
   "outputs": [],
   "source": [
    "data science students are not more likely to have a bs degree"
   ]
  }
 ],
 "metadata": {
  "kernelspec": {
   "display_name": "Python 3",
   "language": "python",
   "name": "python3"
  },
  "language_info": {
   "codemirror_mode": {
    "name": "ipython",
    "version": 3
   },
   "file_extension": ".py",
   "mimetype": "text/x-python",
   "name": "python",
   "nbconvert_exporter": "python",
   "pygments_lexer": "ipython3",
   "version": "3.7.6"
  }
 },
 "nbformat": 4,
 "nbformat_minor": 4
}
