{
 "cells": [
  {
   "cell_type": "code",
   "execution_count": 2,
   "metadata": {},
   "outputs": [],
   "source": [
    "import pandas as pd\n",
    "import numpy as np"
   ]
  },
  {
   "cell_type": "markdown",
   "metadata": {},
   "source": [
    "1. How likely is it that you roll doubles when rolling two dice?"
   ]
  },
  {
   "cell_type": "code",
   "execution_count": 3,
   "metadata": {},
   "outputs": [
    {
     "data": {
      "text/plain": [
       "array([[4, 5],\n",
       "       [3, 1],\n",
       "       [3, 3],\n",
       "       ...,\n",
       "       [3, 3],\n",
       "       [4, 5],\n",
       "       [3, 4]])"
      ]
     },
     "execution_count": 3,
     "metadata": {},
     "output_type": "execute_result"
    }
   ],
   "source": [
    "n_trials = 100_000 #rows\n",
    "n_dice = 2 #columns\n",
    "\n",
    "rolls = np.random.choice([1, 2, 3, 4, 5, 6], n_trials * n_dice)\\\n",
    ".reshape(n_trials, n_dice)\n",
    "rolls"
   ]
  },
  {
   "cell_type": "code",
   "execution_count": 4,
   "metadata": {},
   "outputs": [
    {
     "data": {
      "text/plain": [
       "0.16785"
      ]
     },
     "execution_count": 4,
     "metadata": {},
     "output_type": "execute_result"
    }
   ],
   "source": [
    "(rolls[:,0] == rolls[:,1]).mean()"
   ]
  },
  {
   "cell_type": "code",
   "execution_count": 5,
   "metadata": {},
   "outputs": [
    {
     "data": {
      "text/html": [
       "<div>\n",
       "<style scoped>\n",
       "    .dataframe tbody tr th:only-of-type {\n",
       "        vertical-align: middle;\n",
       "    }\n",
       "\n",
       "    .dataframe tbody tr th {\n",
       "        vertical-align: top;\n",
       "    }\n",
       "\n",
       "    .dataframe thead th {\n",
       "        text-align: right;\n",
       "    }\n",
       "</style>\n",
       "<table border=\"1\" class=\"dataframe\">\n",
       "  <thead>\n",
       "    <tr style=\"text-align: right;\">\n",
       "      <th></th>\n",
       "      <th>die1</th>\n",
       "      <th>die2</th>\n",
       "    </tr>\n",
       "  </thead>\n",
       "  <tbody>\n",
       "    <tr>\n",
       "      <th>0</th>\n",
       "      <td>3</td>\n",
       "      <td>1</td>\n",
       "    </tr>\n",
       "    <tr>\n",
       "      <th>1</th>\n",
       "      <td>5</td>\n",
       "      <td>5</td>\n",
       "    </tr>\n",
       "    <tr>\n",
       "      <th>2</th>\n",
       "      <td>1</td>\n",
       "      <td>3</td>\n",
       "    </tr>\n",
       "    <tr>\n",
       "      <th>3</th>\n",
       "      <td>2</td>\n",
       "      <td>1</td>\n",
       "    </tr>\n",
       "    <tr>\n",
       "      <th>4</th>\n",
       "      <td>5</td>\n",
       "      <td>2</td>\n",
       "    </tr>\n",
       "  </tbody>\n",
       "</table>\n",
       "</div>"
      ],
      "text/plain": [
       "   die1  die2\n",
       "0     3     1\n",
       "1     5     5\n",
       "2     1     3\n",
       "3     2     1\n",
       "4     5     2"
      ]
     },
     "execution_count": 5,
     "metadata": {},
     "output_type": "execute_result"
    }
   ],
   "source": [
    "# pandas solution\n",
    "rolls = pd.DataFrame()\n",
    "rolls['die1'] = np.random.choice([1, 2, 3, 4, 5, 6], size = 100_00)\n",
    "rolls['die2'] = np.random.choice([1, 2, 3, 4, 5, 6], size = 100_00)\n",
    "rolls.head()"
   ]
  },
  {
   "cell_type": "code",
   "execution_count": 6,
   "metadata": {},
   "outputs": [
    {
     "data": {
      "text/plain": [
       "0.1708"
      ]
     },
     "execution_count": 6,
     "metadata": {},
     "output_type": "execute_result"
    }
   ],
   "source": [
    "rolls['is_pair'] = rolls.die1 == rolls.die2\n",
    "rolls.is_pair.mean()"
   ]
  },
  {
   "cell_type": "code",
   "execution_count": 7,
   "metadata": {},
   "outputs": [
    {
     "data": {
      "text/plain": [
       "0.1668"
      ]
     },
     "execution_count": 7,
     "metadata": {},
     "output_type": "execute_result"
    }
   ],
   "source": [
    "# numpy solution\n",
    "a = np.random.choice([1, 2, 3, 4, 5, 6], size = 100_00)\n",
    "b = np.random.choice([1, 2, 3, 4, 5, 6], size = 100_00)\n",
    "(a == b).mean()"
   ]
  },
  {
   "cell_type": "markdown",
   "metadata": {},
   "source": [
    "2. If you flip 8 coins, what is the probability of getting exactly 3 heads? What is the probability of getting more than 3 heads?"
   ]
  },
  {
   "cell_type": "code",
   "execution_count": 8,
   "metadata": {},
   "outputs": [
    {
     "data": {
      "text/plain": [
       "array([[1, 1, 1, ..., 0, 0, 0],\n",
       "       [0, 0, 0, ..., 0, 1, 1],\n",
       "       [0, 1, 1, ..., 0, 1, 1],\n",
       "       ...,\n",
       "       [0, 0, 1, ..., 1, 1, 1],\n",
       "       [1, 0, 0, ..., 0, 1, 1],\n",
       "       [1, 0, 1, ..., 1, 0, 1]])"
      ]
     },
     "execution_count": 8,
     "metadata": {},
     "output_type": "execute_result"
    }
   ],
   "source": [
    "n_trials = nrows = 100_000\n",
    "n_coins = ncols = 8\n",
    "\n",
    "# 1 is heads, 0 is tails (encoded)\n",
    "flips = np.random.choice([1, 0], n_trials * n_coins)\\\n",
    ".reshape(nrows, ncols)\n",
    "flips"
   ]
  },
  {
   "cell_type": "code",
   "execution_count": 9,
   "metadata": {},
   "outputs": [
    {
     "data": {
      "text/plain": [
       "array([4, 4, 6, ..., 4, 3, 5])"
      ]
     },
     "execution_count": 9,
     "metadata": {},
     "output_type": "execute_result"
    }
   ],
   "source": [
    "# axis=1 is sum by row\n",
    "number_of_heads = flips.sum(axis=1)\n",
    "number_of_heads"
   ]
  },
  {
   "cell_type": "code",
   "execution_count": 10,
   "metadata": {},
   "outputs": [
    {
     "data": {
      "text/plain": [
       "0.21801"
      ]
     },
     "execution_count": 10,
     "metadata": {},
     "output_type": "execute_result"
    }
   ],
   "source": [
    "(number_of_heads == 3).mean()"
   ]
  },
  {
   "cell_type": "code",
   "execution_count": 11,
   "metadata": {},
   "outputs": [
    {
     "data": {
      "text/plain": [
       "0.63793"
      ]
     },
     "execution_count": 11,
     "metadata": {},
     "output_type": "execute_result"
    }
   ],
   "source": [
    "(number_of_heads > 3).mean()"
   ]
  },
  {
   "cell_type": "markdown",
   "metadata": {},
   "source": [
    "3. There are approximitely 3 web development cohorts for every 1 data science cohort at Codeup. Assuming that Codeup randomly selects an alumni to put on a billboard, what are the odds that the two billboards I drive past both have data science students on them?"
   ]
  },
  {
   "cell_type": "code",
   "execution_count": 12,
   "metadata": {},
   "outputs": [
    {
     "data": {
      "text/plain": [
       "array([['webdev', 'webdev'],\n",
       "       ['webdev', 'webdev'],\n",
       "       ['webdev', 'webdev'],\n",
       "       ...,\n",
       "       ['webdev', 'webdev'],\n",
       "       ['webdev', 'ds'],\n",
       "       ['ds', 'webdev']], dtype='<U6')"
      ]
     },
     "execution_count": 12,
     "metadata": {},
     "output_type": "execute_result"
    }
   ],
   "source": [
    "n_trials = 100_000\n",
    "n_billboard = 2\n",
    "\n",
    "cohort = np.random.choice(['webdev', 'ds'], size=(n_trials, n_billboard), p=[.75, .25])\n",
    "cohort"
   ]
  },
  {
   "cell_type": "code",
   "execution_count": 13,
   "metadata": {},
   "outputs": [
    {
     "data": {
      "text/html": [
       "<div>\n",
       "<style scoped>\n",
       "    .dataframe tbody tr th:only-of-type {\n",
       "        vertical-align: middle;\n",
       "    }\n",
       "\n",
       "    .dataframe tbody tr th {\n",
       "        vertical-align: top;\n",
       "    }\n",
       "\n",
       "    .dataframe thead th {\n",
       "        text-align: right;\n",
       "    }\n",
       "</style>\n",
       "<table border=\"1\" class=\"dataframe\">\n",
       "  <thead>\n",
       "    <tr style=\"text-align: right;\">\n",
       "      <th></th>\n",
       "      <th>first_billboard</th>\n",
       "      <th>second_billboard</th>\n",
       "    </tr>\n",
       "  </thead>\n",
       "  <tbody>\n",
       "    <tr>\n",
       "      <th>0</th>\n",
       "      <td>webdev</td>\n",
       "      <td>webdev</td>\n",
       "    </tr>\n",
       "    <tr>\n",
       "      <th>1</th>\n",
       "      <td>webdev</td>\n",
       "      <td>webdev</td>\n",
       "    </tr>\n",
       "    <tr>\n",
       "      <th>2</th>\n",
       "      <td>webdev</td>\n",
       "      <td>webdev</td>\n",
       "    </tr>\n",
       "    <tr>\n",
       "      <th>3</th>\n",
       "      <td>webdev</td>\n",
       "      <td>webdev</td>\n",
       "    </tr>\n",
       "    <tr>\n",
       "      <th>4</th>\n",
       "      <td>webdev</td>\n",
       "      <td>webdev</td>\n",
       "    </tr>\n",
       "  </tbody>\n",
       "</table>\n",
       "</div>"
      ],
      "text/plain": [
       "  first_billboard second_billboard\n",
       "0          webdev           webdev\n",
       "1          webdev           webdev\n",
       "2          webdev           webdev\n",
       "3          webdev           webdev\n",
       "4          webdev           webdev"
      ]
     },
     "execution_count": 13,
     "metadata": {},
     "output_type": "execute_result"
    }
   ],
   "source": [
    "df = pd.DataFrame(cohort)\n",
    "df.columns = ['first_billboard', 'second_billboard']\n",
    "df.head()"
   ]
  },
  {
   "cell_type": "code",
   "execution_count": 14,
   "metadata": {},
   "outputs": [
    {
     "data": {
      "text/plain": [
       "0.06279"
      ]
     },
     "execution_count": 14,
     "metadata": {},
     "output_type": "execute_result"
    }
   ],
   "source": [
    "df['both_ds'] = (df.first_billboard == 'ds') & (df.second_billboard == 'ds')\n",
    "df.both_ds.mean()"
   ]
  },
  {
   "cell_type": "code",
   "execution_count": 15,
   "metadata": {},
   "outputs": [
    {
     "data": {
      "text/plain": [
       "0.0625"
      ]
     },
     "execution_count": 15,
     "metadata": {},
     "output_type": "execute_result"
    }
   ],
   "source": [
    ".25 * .25 "
   ]
  },
  {
   "cell_type": "markdown",
   "metadata": {},
   "source": [
    "4. Codeup students buy, on average, 3 poptart packages (+- 1.5) a day from the snack vending machine. If on monday the machine is restocked with 17 poptart packages, how likely is it that I will be able to buy some poptarts on Friday afternoon?"
   ]
  },
  {
   "cell_type": "code",
   "execution_count": 16,
   "metadata": {},
   "outputs": [
    {
     "data": {
      "text/plain": [
       "3.001486"
      ]
     },
     "execution_count": 16,
     "metadata": {},
     "output_type": "execute_result"
    }
   ],
   "source": [
    "mean = 3\n",
    "st_dev = 1.5\n",
    "poptarts = np.round(np.random.normal(mean, st_dev, size = (100_000, 5)))\n",
    "poptarts.mean()"
   ]
  },
  {
   "cell_type": "code",
   "execution_count": 17,
   "metadata": {},
   "outputs": [
    {
     "data": {
      "text/plain": [
       "array([1., 5., 0., 3., 3.])"
      ]
     },
     "execution_count": 17,
     "metadata": {},
     "output_type": "execute_result"
    }
   ],
   "source": [
    "poptarts[0]"
   ]
  },
  {
   "cell_type": "code",
   "execution_count": 18,
   "metadata": {},
   "outputs": [],
   "source": [
    "# axis = 1 sums each row, each row is..\n",
    "weekly_demand = poptarts.sum(axis=1)"
   ]
  },
  {
   "cell_type": "code",
   "execution_count": 19,
   "metadata": {},
   "outputs": [
    {
     "data": {
      "text/plain": [
       "0.66983"
      ]
     },
     "execution_count": 19,
     "metadata": {},
     "output_type": "execute_result"
    }
   ],
   "source": [
    "# weekly demand is less than 17, it means theres more poptarts to buy\n",
    "# prob is machine started with 17 poptarts that you can buy on friday\n",
    "(weekly_demand < 17).mean()"
   ]
  },
  {
   "cell_type": "markdown",
   "metadata": {},
   "source": [
    "5. Compare Heights\n",
    "\n",
    "    - Men have an average height of 178 cm and standard deviation of 8cm.\n",
    "    - Women have a mean of 170, sd = 6cm.\n",
    "    - If a man and woman are chosen at random, P(woman taller than man)?"
   ]
  },
  {
   "cell_type": "code",
   "execution_count": 20,
   "metadata": {},
   "outputs": [
    {
     "data": {
      "text/plain": [
       "0.20993"
      ]
     },
     "execution_count": 20,
     "metadata": {},
     "output_type": "execute_result"
    }
   ],
   "source": [
    "men_avg = 178\n",
    "m_sd = 8\n",
    "women_avg = 170\n",
    "w_sd = 6\n",
    "\n",
    "men = np.random.normal(men_avg, m_sd, size=100000)\n",
    "women = np.random.normal(women_avg, w_sd, size=100000)\n",
    "\n",
    "(women > men).mean()"
   ]
  },
  {
   "cell_type": "markdown",
   "metadata": {},
   "source": [
    "6. When installing anaconda on a student's computer, there's a 1 in 250 chance that the download is corrupted and the installation fails. What are the odds that after having 50 students download anaconda, no one has an installation issue? 100 students?\n",
    "\n",
    "    - What is the probability that we observe an installation issue within the first 150 students that download anaconda?\n",
    "\n",
    "    - How likely is it that 450 students all download anaconda without an issue?"
   ]
  },
  {
   "cell_type": "code",
   "execution_count": 21,
   "metadata": {},
   "outputs": [
    {
     "data": {
      "text/plain": [
       "array([[1, 1, 1, ..., 1, 1, 1],\n",
       "       [1, 1, 1, ..., 1, 1, 1],\n",
       "       [1, 1, 1, ..., 1, 1, 1],\n",
       "       ...,\n",
       "       [1, 1, 1, ..., 1, 1, 1],\n",
       "       [1, 1, 1, ..., 1, 1, 1],\n",
       "       [1, 1, 1, ..., 1, 1, 1]])"
      ]
     },
     "execution_count": 21,
     "metadata": {},
     "output_type": "execute_result"
    }
   ],
   "source": [
    "# 50 students success\n",
    "chance = [(249/250), (1/250)]\n",
    "n_trials = 100000 # rows\n",
    "n_students = 50 # columns\n",
    "\n",
    "download = np.random.choice([1,0], n_students * n_trials, p=chance)\\\n",
    ".reshape(n_trials, n_students)\n",
    "download"
   ]
  },
  {
   "cell_type": "code",
   "execution_count": 22,
   "metadata": {},
   "outputs": [
    {
     "data": {
      "text/plain": [
       "0.81831"
      ]
     },
     "execution_count": 22,
     "metadata": {},
     "output_type": "execute_result"
    }
   ],
   "source": [
    "(download.sum(axis=1) == 50).mean()"
   ]
  },
  {
   "cell_type": "code",
   "execution_count": 23,
   "metadata": {},
   "outputs": [
    {
     "data": {
      "text/plain": [
       "0.67399"
      ]
     },
     "execution_count": 23,
     "metadata": {},
     "output_type": "execute_result"
    }
   ],
   "source": [
    "# 100 students success\n",
    "chance = [(249/250), (1/250)]\n",
    "n_trials = 100000 # rows\n",
    "n_students = 100 # columns\n",
    "\n",
    "download = np.random.choice([1,0], n_students * n_trials, p=chance)\\\n",
    ".reshape(n_trials, n_students)\n",
    "\n",
    "(download.sum(axis=1) == 100).mean()"
   ]
  },
  {
   "cell_type": "code",
   "execution_count": 24,
   "metadata": {},
   "outputs": [
    {
     "data": {
      "text/plain": [
       "0.45216999999999996"
      ]
     },
     "execution_count": 24,
     "metadata": {},
     "output_type": "execute_result"
    }
   ],
   "source": [
    "# 150 students fail\n",
    "chance = [(249/250), (1/250)]\n",
    "n_trials = 100000 # rows\n",
    "n_students = 150 # columns\n",
    "\n",
    "download = np.random.choice([1,0], n_students * n_trials, p=chance)\\\n",
    ".reshape(n_trials, n_students)\n",
    "\n",
    "1-(download.sum(axis=1) == 150).mean()"
   ]
  },
  {
   "cell_type": "code",
   "execution_count": 25,
   "metadata": {},
   "outputs": [
    {
     "data": {
      "text/plain": [
       "0.16641"
      ]
     },
     "execution_count": 25,
     "metadata": {},
     "output_type": "execute_result"
    }
   ],
   "source": [
    "# 450 students succeed\n",
    "chance = [(249/250), (1/250)]\n",
    "n_trials = 100000 # rows\n",
    "n_students = 450 # columns\n",
    "\n",
    "download = np.random.choice([1,0], n_students * n_trials, p=chance)\\\n",
    ".reshape(n_trials, n_students)\n",
    "\n",
    "(download.sum(axis=1) == 450).mean()"
   ]
  },
  {
   "cell_type": "markdown",
   "metadata": {},
   "source": [
    "7. There's a 70% chance on any given day that there will be at least one food truck at Travis Park. However, you haven't seen a food truck there in 3 days. How unlikely is this?\n",
    "\n",
    "    - How likely is it that a food truck will show up sometime this week?"
   ]
  },
  {
   "cell_type": "code",
   "execution_count": 26,
   "metadata": {},
   "outputs": [
    {
     "data": {
      "text/plain": [
       "array([['truck', 'truck', 'none'],\n",
       "       ['none', 'truck', 'none'],\n",
       "       ['truck', 'truck', 'truck'],\n",
       "       ...,\n",
       "       ['truck', 'truck', 'none'],\n",
       "       ['none', 'truck', 'truck'],\n",
       "       ['truck', 'none', 'none']], dtype='<U5')"
      ]
     },
     "execution_count": 26,
     "metadata": {},
     "output_type": "execute_result"
    }
   ],
   "source": [
    "chance = [.7, .3]\n",
    "n_trials = 1000000 # rows\n",
    "n_days = 3 # columns\n",
    "\n",
    "food_truck = np.random.choice(['truck','none'], n_days * n_trials, p=chance)\\\n",
    ".reshape(n_trials, n_days)\n",
    "food_truck"
   ]
  },
  {
   "cell_type": "code",
   "execution_count": 27,
   "metadata": {},
   "outputs": [
    {
     "data": {
      "text/plain": [
       "0.027124"
      ]
     },
     "execution_count": 27,
     "metadata": {},
     "output_type": "execute_result"
    }
   ],
   "source": [
    "((food_truck[:,0] == 'none') & (food_truck[:,1] == 'none') & (food_truck[:,2] == 'none')).mean()"
   ]
  },
  {
   "cell_type": "code",
   "execution_count": 28,
   "metadata": {},
   "outputs": [
    {
     "data": {
      "text/html": [
       "<div>\n",
       "<style scoped>\n",
       "    .dataframe tbody tr th:only-of-type {\n",
       "        vertical-align: middle;\n",
       "    }\n",
       "\n",
       "    .dataframe tbody tr th {\n",
       "        vertical-align: top;\n",
       "    }\n",
       "\n",
       "    .dataframe thead th {\n",
       "        text-align: right;\n",
       "    }\n",
       "</style>\n",
       "<table border=\"1\" class=\"dataframe\">\n",
       "  <thead>\n",
       "    <tr style=\"text-align: right;\">\n",
       "      <th></th>\n",
       "      <th>day_1</th>\n",
       "      <th>day_2</th>\n",
       "      <th>day_3</th>\n",
       "    </tr>\n",
       "  </thead>\n",
       "  <tbody>\n",
       "    <tr>\n",
       "      <th>0</th>\n",
       "      <td>1</td>\n",
       "      <td>1</td>\n",
       "      <td>1</td>\n",
       "    </tr>\n",
       "    <tr>\n",
       "      <th>1</th>\n",
       "      <td>1</td>\n",
       "      <td>1</td>\n",
       "      <td>1</td>\n",
       "    </tr>\n",
       "    <tr>\n",
       "      <th>2</th>\n",
       "      <td>1</td>\n",
       "      <td>1</td>\n",
       "      <td>1</td>\n",
       "    </tr>\n",
       "    <tr>\n",
       "      <th>3</th>\n",
       "      <td>1</td>\n",
       "      <td>1</td>\n",
       "      <td>1</td>\n",
       "    </tr>\n",
       "    <tr>\n",
       "      <th>4</th>\n",
       "      <td>1</td>\n",
       "      <td>1</td>\n",
       "      <td>1</td>\n",
       "    </tr>\n",
       "  </tbody>\n",
       "</table>\n",
       "</div>"
      ],
      "text/plain": [
       "   day_1  day_2  day_3\n",
       "0      1      1      1\n",
       "1      1      1      1\n",
       "2      1      1      1\n",
       "3      1      1      1\n",
       "4      1      1      1"
      ]
     },
     "execution_count": 28,
     "metadata": {},
     "output_type": "execute_result"
    }
   ],
   "source": [
    "trucks = np.random.choice([1,0], size=(100_000, 3), p=[.7,.3])\n",
    "df = pd.DataFrame(trucks)\n",
    "df.columns = ['day_1', 'day_2', 'day_3']\n",
    "df.head()"
   ]
  },
  {
   "cell_type": "code",
   "execution_count": 29,
   "metadata": {},
   "outputs": [
    {
     "data": {
      "text/html": [
       "<div>\n",
       "<style scoped>\n",
       "    .dataframe tbody tr th:only-of-type {\n",
       "        vertical-align: middle;\n",
       "    }\n",
       "\n",
       "    .dataframe tbody tr th {\n",
       "        vertical-align: top;\n",
       "    }\n",
       "\n",
       "    .dataframe thead th {\n",
       "        text-align: right;\n",
       "    }\n",
       "</style>\n",
       "<table border=\"1\" class=\"dataframe\">\n",
       "  <thead>\n",
       "    <tr style=\"text-align: right;\">\n",
       "      <th></th>\n",
       "      <th>day_1</th>\n",
       "      <th>day_2</th>\n",
       "      <th>day_3</th>\n",
       "      <th>appear</th>\n",
       "    </tr>\n",
       "  </thead>\n",
       "  <tbody>\n",
       "    <tr>\n",
       "      <th>0</th>\n",
       "      <td>1</td>\n",
       "      <td>1</td>\n",
       "      <td>1</td>\n",
       "      <td>3</td>\n",
       "    </tr>\n",
       "    <tr>\n",
       "      <th>1</th>\n",
       "      <td>1</td>\n",
       "      <td>1</td>\n",
       "      <td>1</td>\n",
       "      <td>3</td>\n",
       "    </tr>\n",
       "    <tr>\n",
       "      <th>2</th>\n",
       "      <td>1</td>\n",
       "      <td>1</td>\n",
       "      <td>1</td>\n",
       "      <td>3</td>\n",
       "    </tr>\n",
       "    <tr>\n",
       "      <th>3</th>\n",
       "      <td>1</td>\n",
       "      <td>1</td>\n",
       "      <td>1</td>\n",
       "      <td>3</td>\n",
       "    </tr>\n",
       "    <tr>\n",
       "      <th>4</th>\n",
       "      <td>1</td>\n",
       "      <td>1</td>\n",
       "      <td>1</td>\n",
       "      <td>3</td>\n",
       "    </tr>\n",
       "  </tbody>\n",
       "</table>\n",
       "</div>"
      ],
      "text/plain": [
       "   day_1  day_2  day_3  appear\n",
       "0      1      1      1       3\n",
       "1      1      1      1       3\n",
       "2      1      1      1       3\n",
       "3      1      1      1       3\n",
       "4      1      1      1       3"
      ]
     },
     "execution_count": 29,
     "metadata": {},
     "output_type": "execute_result"
    }
   ],
   "source": [
    "df['appear'] = df.day_1 + df.day_2 + df.day_3\n",
    "df.head()"
   ]
  },
  {
   "cell_type": "code",
   "execution_count": 30,
   "metadata": {},
   "outputs": [
    {
     "data": {
      "text/plain": [
       "0.02696"
      ]
     },
     "execution_count": 30,
     "metadata": {},
     "output_type": "execute_result"
    }
   ],
   "source": [
    "(df.appear == 0).mean()"
   ]
  },
  {
   "cell_type": "code",
   "execution_count": 31,
   "metadata": {},
   "outputs": [
    {
     "data": {
      "text/plain": [
       "0.99983"
      ]
     },
     "execution_count": 31,
     "metadata": {},
     "output_type": "execute_result"
    }
   ],
   "source": [
    "# How likely is it that a food truck will show up sometime this week?\n",
    "trucks = np.random.choice([1,0], size=(100_000, 7), p=[.7,.3])\n",
    "df = pd.DataFrame(trucks)\n",
    "\n",
    "df['appear'] = df.sum(axis=1)\n",
    "(df.appear > 0).mean()"
   ]
  },
  {
   "cell_type": "markdown",
   "metadata": {},
   "source": [
    "8. If 23 people are in the same room, what are the odds that two of them share a birthday? What if it's 20 people? 40?"
   ]
  },
  {
   "cell_type": "code",
   "execution_count": 40,
   "metadata": {},
   "outputs": [
    {
     "data": {
      "text/html": [
       "<div>\n",
       "<style scoped>\n",
       "    .dataframe tbody tr th:only-of-type {\n",
       "        vertical-align: middle;\n",
       "    }\n",
       "\n",
       "    .dataframe tbody tr th {\n",
       "        vertical-align: top;\n",
       "    }\n",
       "\n",
       "    .dataframe thead th {\n",
       "        text-align: right;\n",
       "    }\n",
       "</style>\n",
       "<table border=\"1\" class=\"dataframe\">\n",
       "  <thead>\n",
       "    <tr style=\"text-align: right;\">\n",
       "      <th></th>\n",
       "      <th>0</th>\n",
       "      <th>1</th>\n",
       "      <th>2</th>\n",
       "      <th>3</th>\n",
       "      <th>4</th>\n",
       "      <th>5</th>\n",
       "      <th>6</th>\n",
       "      <th>7</th>\n",
       "      <th>8</th>\n",
       "      <th>9</th>\n",
       "      <th>...</th>\n",
       "      <th>13</th>\n",
       "      <th>14</th>\n",
       "      <th>15</th>\n",
       "      <th>16</th>\n",
       "      <th>17</th>\n",
       "      <th>18</th>\n",
       "      <th>19</th>\n",
       "      <th>20</th>\n",
       "      <th>21</th>\n",
       "      <th>22</th>\n",
       "    </tr>\n",
       "  </thead>\n",
       "  <tbody>\n",
       "    <tr>\n",
       "      <th>0</th>\n",
       "      <td>245</td>\n",
       "      <td>24</td>\n",
       "      <td>12</td>\n",
       "      <td>52</td>\n",
       "      <td>117</td>\n",
       "      <td>208</td>\n",
       "      <td>259</td>\n",
       "      <td>50</td>\n",
       "      <td>312</td>\n",
       "      <td>51</td>\n",
       "      <td>...</td>\n",
       "      <td>123</td>\n",
       "      <td>303</td>\n",
       "      <td>109</td>\n",
       "      <td>331</td>\n",
       "      <td>226</td>\n",
       "      <td>267</td>\n",
       "      <td>144</td>\n",
       "      <td>146</td>\n",
       "      <td>61</td>\n",
       "      <td>329</td>\n",
       "    </tr>\n",
       "    <tr>\n",
       "      <th>1</th>\n",
       "      <td>338</td>\n",
       "      <td>102</td>\n",
       "      <td>345</td>\n",
       "      <td>2</td>\n",
       "      <td>274</td>\n",
       "      <td>340</td>\n",
       "      <td>140</td>\n",
       "      <td>218</td>\n",
       "      <td>319</td>\n",
       "      <td>31</td>\n",
       "      <td>...</td>\n",
       "      <td>124</td>\n",
       "      <td>167</td>\n",
       "      <td>102</td>\n",
       "      <td>347</td>\n",
       "      <td>59</td>\n",
       "      <td>166</td>\n",
       "      <td>312</td>\n",
       "      <td>254</td>\n",
       "      <td>357</td>\n",
       "      <td>77</td>\n",
       "    </tr>\n",
       "    <tr>\n",
       "      <th>2</th>\n",
       "      <td>205</td>\n",
       "      <td>132</td>\n",
       "      <td>329</td>\n",
       "      <td>361</td>\n",
       "      <td>323</td>\n",
       "      <td>179</td>\n",
       "      <td>18</td>\n",
       "      <td>343</td>\n",
       "      <td>7</td>\n",
       "      <td>238</td>\n",
       "      <td>...</td>\n",
       "      <td>359</td>\n",
       "      <td>185</td>\n",
       "      <td>287</td>\n",
       "      <td>144</td>\n",
       "      <td>14</td>\n",
       "      <td>262</td>\n",
       "      <td>122</td>\n",
       "      <td>270</td>\n",
       "      <td>32</td>\n",
       "      <td>213</td>\n",
       "    </tr>\n",
       "    <tr>\n",
       "      <th>3</th>\n",
       "      <td>318</td>\n",
       "      <td>349</td>\n",
       "      <td>22</td>\n",
       "      <td>281</td>\n",
       "      <td>216</td>\n",
       "      <td>96</td>\n",
       "      <td>289</td>\n",
       "      <td>351</td>\n",
       "      <td>72</td>\n",
       "      <td>21</td>\n",
       "      <td>...</td>\n",
       "      <td>42</td>\n",
       "      <td>187</td>\n",
       "      <td>207</td>\n",
       "      <td>84</td>\n",
       "      <td>169</td>\n",
       "      <td>12</td>\n",
       "      <td>99</td>\n",
       "      <td>243</td>\n",
       "      <td>328</td>\n",
       "      <td>234</td>\n",
       "    </tr>\n",
       "    <tr>\n",
       "      <th>4</th>\n",
       "      <td>55</td>\n",
       "      <td>222</td>\n",
       "      <td>353</td>\n",
       "      <td>78</td>\n",
       "      <td>88</td>\n",
       "      <td>207</td>\n",
       "      <td>254</td>\n",
       "      <td>27</td>\n",
       "      <td>66</td>\n",
       "      <td>201</td>\n",
       "      <td>...</td>\n",
       "      <td>103</td>\n",
       "      <td>93</td>\n",
       "      <td>230</td>\n",
       "      <td>233</td>\n",
       "      <td>220</td>\n",
       "      <td>180</td>\n",
       "      <td>310</td>\n",
       "      <td>271</td>\n",
       "      <td>300</td>\n",
       "      <td>23</td>\n",
       "    </tr>\n",
       "  </tbody>\n",
       "</table>\n",
       "<p>5 rows × 23 columns</p>\n",
       "</div>"
      ],
      "text/plain": [
       "    0    1    2    3    4    5    6    7    8    9   ...   13   14   15   16  \\\n",
       "0  245   24   12   52  117  208  259   50  312   51  ...  123  303  109  331   \n",
       "1  338  102  345    2  274  340  140  218  319   31  ...  124  167  102  347   \n",
       "2  205  132  329  361  323  179   18  343    7  238  ...  359  185  287  144   \n",
       "3  318  349   22  281  216   96  289  351   72   21  ...   42  187  207   84   \n",
       "4   55  222  353   78   88  207  254   27   66  201  ...  103   93  230  233   \n",
       "\n",
       "    17   18   19   20   21   22  \n",
       "0  226  267  144  146   61  329  \n",
       "1   59  166  312  254  357   77  \n",
       "2   14  262  122  270   32  213  \n",
       "3  169   12   99  243  328  234  \n",
       "4  220  180  310  271  300   23  \n",
       "\n",
       "[5 rows x 23 columns]"
      ]
     },
     "execution_count": 40,
     "metadata": {},
     "output_type": "execute_result"
    }
   ],
   "source": [
    "# 23 people\n",
    "n_trials = 100000 # rows\n",
    "n_people = 23 # columns\n",
    "\n",
    "birthday = np.random.choice(range(1,366), size=(n_trials, n_people))\n",
    "df = pd.DataFrame(birthday)\n",
    "df.head()"
   ]
  },
  {
   "cell_type": "code",
   "execution_count": 41,
   "metadata": {
    "scrolled": true
   },
   "outputs": [
    {
     "data": {
      "text/html": [
       "<div>\n",
       "<style scoped>\n",
       "    .dataframe tbody tr th:only-of-type {\n",
       "        vertical-align: middle;\n",
       "    }\n",
       "\n",
       "    .dataframe tbody tr th {\n",
       "        vertical-align: top;\n",
       "    }\n",
       "\n",
       "    .dataframe thead th {\n",
       "        text-align: right;\n",
       "    }\n",
       "</style>\n",
       "<table border=\"1\" class=\"dataframe\">\n",
       "  <thead>\n",
       "    <tr style=\"text-align: right;\">\n",
       "      <th></th>\n",
       "      <th>0</th>\n",
       "      <th>1</th>\n",
       "      <th>2</th>\n",
       "      <th>3</th>\n",
       "      <th>4</th>\n",
       "      <th>5</th>\n",
       "      <th>6</th>\n",
       "      <th>7</th>\n",
       "      <th>8</th>\n",
       "      <th>9</th>\n",
       "      <th>...</th>\n",
       "      <th>14</th>\n",
       "      <th>15</th>\n",
       "      <th>16</th>\n",
       "      <th>17</th>\n",
       "      <th>18</th>\n",
       "      <th>19</th>\n",
       "      <th>20</th>\n",
       "      <th>21</th>\n",
       "      <th>22</th>\n",
       "      <th>n_unique</th>\n",
       "    </tr>\n",
       "  </thead>\n",
       "  <tbody>\n",
       "    <tr>\n",
       "      <th>0</th>\n",
       "      <td>245</td>\n",
       "      <td>24</td>\n",
       "      <td>12</td>\n",
       "      <td>52</td>\n",
       "      <td>117</td>\n",
       "      <td>208</td>\n",
       "      <td>259</td>\n",
       "      <td>50</td>\n",
       "      <td>312</td>\n",
       "      <td>51</td>\n",
       "      <td>...</td>\n",
       "      <td>303</td>\n",
       "      <td>109</td>\n",
       "      <td>331</td>\n",
       "      <td>226</td>\n",
       "      <td>267</td>\n",
       "      <td>144</td>\n",
       "      <td>146</td>\n",
       "      <td>61</td>\n",
       "      <td>329</td>\n",
       "      <td>23</td>\n",
       "    </tr>\n",
       "    <tr>\n",
       "      <th>1</th>\n",
       "      <td>338</td>\n",
       "      <td>102</td>\n",
       "      <td>345</td>\n",
       "      <td>2</td>\n",
       "      <td>274</td>\n",
       "      <td>340</td>\n",
       "      <td>140</td>\n",
       "      <td>218</td>\n",
       "      <td>319</td>\n",
       "      <td>31</td>\n",
       "      <td>...</td>\n",
       "      <td>167</td>\n",
       "      <td>102</td>\n",
       "      <td>347</td>\n",
       "      <td>59</td>\n",
       "      <td>166</td>\n",
       "      <td>312</td>\n",
       "      <td>254</td>\n",
       "      <td>357</td>\n",
       "      <td>77</td>\n",
       "      <td>22</td>\n",
       "    </tr>\n",
       "    <tr>\n",
       "      <th>2</th>\n",
       "      <td>205</td>\n",
       "      <td>132</td>\n",
       "      <td>329</td>\n",
       "      <td>361</td>\n",
       "      <td>323</td>\n",
       "      <td>179</td>\n",
       "      <td>18</td>\n",
       "      <td>343</td>\n",
       "      <td>7</td>\n",
       "      <td>238</td>\n",
       "      <td>...</td>\n",
       "      <td>185</td>\n",
       "      <td>287</td>\n",
       "      <td>144</td>\n",
       "      <td>14</td>\n",
       "      <td>262</td>\n",
       "      <td>122</td>\n",
       "      <td>270</td>\n",
       "      <td>32</td>\n",
       "      <td>213</td>\n",
       "      <td>23</td>\n",
       "    </tr>\n",
       "    <tr>\n",
       "      <th>3</th>\n",
       "      <td>318</td>\n",
       "      <td>349</td>\n",
       "      <td>22</td>\n",
       "      <td>281</td>\n",
       "      <td>216</td>\n",
       "      <td>96</td>\n",
       "      <td>289</td>\n",
       "      <td>351</td>\n",
       "      <td>72</td>\n",
       "      <td>21</td>\n",
       "      <td>...</td>\n",
       "      <td>187</td>\n",
       "      <td>207</td>\n",
       "      <td>84</td>\n",
       "      <td>169</td>\n",
       "      <td>12</td>\n",
       "      <td>99</td>\n",
       "      <td>243</td>\n",
       "      <td>328</td>\n",
       "      <td>234</td>\n",
       "      <td>23</td>\n",
       "    </tr>\n",
       "    <tr>\n",
       "      <th>4</th>\n",
       "      <td>55</td>\n",
       "      <td>222</td>\n",
       "      <td>353</td>\n",
       "      <td>78</td>\n",
       "      <td>88</td>\n",
       "      <td>207</td>\n",
       "      <td>254</td>\n",
       "      <td>27</td>\n",
       "      <td>66</td>\n",
       "      <td>201</td>\n",
       "      <td>...</td>\n",
       "      <td>93</td>\n",
       "      <td>230</td>\n",
       "      <td>233</td>\n",
       "      <td>220</td>\n",
       "      <td>180</td>\n",
       "      <td>310</td>\n",
       "      <td>271</td>\n",
       "      <td>300</td>\n",
       "      <td>23</td>\n",
       "      <td>22</td>\n",
       "    </tr>\n",
       "  </tbody>\n",
       "</table>\n",
       "<p>5 rows × 24 columns</p>\n",
       "</div>"
      ],
      "text/plain": [
       "     0    1    2    3    4    5    6    7    8    9  ...   14   15   16   17  \\\n",
       "0  245   24   12   52  117  208  259   50  312   51  ...  303  109  331  226   \n",
       "1  338  102  345    2  274  340  140  218  319   31  ...  167  102  347   59   \n",
       "2  205  132  329  361  323  179   18  343    7  238  ...  185  287  144   14   \n",
       "3  318  349   22  281  216   96  289  351   72   21  ...  187  207   84  169   \n",
       "4   55  222  353   78   88  207  254   27   66  201  ...   93  230  233  220   \n",
       "\n",
       "    18   19   20   21   22  n_unique  \n",
       "0  267  144  146   61  329        23  \n",
       "1  166  312  254  357   77        22  \n",
       "2  262  122  270   32  213        23  \n",
       "3   12   99  243  328  234        23  \n",
       "4  180  310  271  300   23        22  \n",
       "\n",
       "[5 rows x 24 columns]"
      ]
     },
     "execution_count": 41,
     "metadata": {},
     "output_type": "execute_result"
    }
   ],
   "source": [
    "# get number of unique values per row (per observation)\n",
    "# if ther unmber of unique values == number of people in rooom, \n",
    "# then it means everybody has a differnet birhtday\n",
    "df['n_unique'] = df.nunique(axis=1)\n",
    "df.head()"
   ]
  },
  {
   "cell_type": "code",
   "execution_count": 42,
   "metadata": {},
   "outputs": [
    {
     "data": {
      "text/plain": [
       "0.50656"
      ]
     },
     "execution_count": 42,
     "metadata": {},
     "output_type": "execute_result"
    }
   ],
   "source": [
    "# if n_unique == 23 then no one shares a birthday\n",
    "(df.n_unique != 23).mean()"
   ]
  },
  {
   "cell_type": "code",
   "execution_count": 36,
   "metadata": {},
   "outputs": [
    {
     "data": {
      "text/plain": [
       "0.41203"
      ]
     },
     "execution_count": 36,
     "metadata": {},
     "output_type": "execute_result"
    }
   ],
   "source": [
    "# 20 people\n",
    "n_trials = 100000 # rows\n",
    "n_people = 20 # columns\n",
    "\n",
    "birthday = np.random.choice(range(1,366), size=(n_trials, n_people))\n",
    "df = pd.DataFrame(birthday)\n",
    "\n",
    "df['n_unique'] = df.nunique(axis=1)\n",
    "\n",
    "(df.n_unique != 20).mean()"
   ]
  },
  {
   "cell_type": "code",
   "execution_count": 37,
   "metadata": {},
   "outputs": [
    {
     "data": {
      "text/plain": [
       "0.89275"
      ]
     },
     "execution_count": 37,
     "metadata": {},
     "output_type": "execute_result"
    }
   ],
   "source": [
    "# 40 people\n",
    "n_trials = 100000 # rows\n",
    "n_people = 40 # columns\n",
    "\n",
    "birthday = np.random.choice(range(1,366), size=(n_trials, n_people))\n",
    "df = pd.DataFrame(birthday)\n",
    "\n",
    "df['n_unique'] = df.nunique(axis=1)\n",
    "\n",
    "(df.n_unique != 40).mean()"
   ]
  },
  {
   "cell_type": "code",
   "execution_count": null,
   "metadata": {},
   "outputs": [],
   "source": []
  }
 ],
 "metadata": {
  "kernelspec": {
   "display_name": "Python 3",
   "language": "python",
   "name": "python3"
  },
  "language_info": {
   "codemirror_mode": {
    "name": "ipython",
    "version": 3
   },
   "file_extension": ".py",
   "mimetype": "text/x-python",
   "name": "python",
   "nbconvert_exporter": "python",
   "pygments_lexer": "ipython3",
   "version": "3.7.6"
  }
 },
 "nbformat": 4,
 "nbformat_minor": 4
}
